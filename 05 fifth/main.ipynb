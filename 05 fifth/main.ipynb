{
 "metadata": {
  "language_info": {
   "codemirror_mode": {
    "name": "ipython",
    "version": 3
   },
   "file_extension": ".py",
   "mimetype": "text/x-python",
   "name": "python",
   "nbconvert_exporter": "python",
   "pygments_lexer": "ipython3",
   "version": "3.8.5-final"
  },
  "orig_nbformat": 2,
  "kernelspec": {
   "name": "python_defaultSpec_1598266919239",
   "display_name": "Python 3.8.5 32-bit"
  }
 },
 "nbformat": 4,
 "nbformat_minor": 2,
 "cells": [
  {
   "cell_type": "code",
   "execution_count": 1,
   "metadata": {},
   "outputs": [],
   "source": [
    "# hierarchical indexing & multi-indexing\n",
    "import numpy as np\n",
    "import pandas as pd\n"
   ]
  },
  {
   "cell_type": "code",
   "execution_count": 2,
   "metadata": {},
   "outputs": [
    {
     "output_type": "execute_result",
     "data": {
      "text/plain": "(California, 2000)    33871648\n(California, 2010)    37253956\n(New York, 2000)      18976457\n(New York, 2010)      19378102\n(Texas, 2000)         20851820\n(Texas, 2010)         25145561\ndtype: int64"
     },
     "metadata": {},
     "execution_count": 2
    }
   ],
   "source": [
    "# Плохой способ 👇\n",
    "index = [\n",
    "    ('California', 2000), ('California', 2010),\n",
    "    ('New York', 2000), ('New York', 2010),\n",
    "    ('Texas', 2000), ('Texas', 2010)\n",
    "]\n",
    "\n",
    "populations = [\n",
    "    33871648, 37253956,\n",
    "    18976457, 19378102,\n",
    "    20851820, 25145561\n",
    "]\n",
    "\n",
    "pop = pd.Series(populations, index=index)\n",
    "pop"
   ]
  },
  {
   "cell_type": "code",
   "execution_count": 3,
   "metadata": {},
   "outputs": [
    {
     "output_type": "execute_result",
     "data": {
      "text/plain": "(California, 2010)    37253956\n(New York, 2000)      18976457\n(New York, 2010)      19378102\n(Texas, 2000)         20851820\ndtype: int64"
     },
     "metadata": {},
     "execution_count": 3
    }
   ],
   "source": [
    "pop[('California', 2010):('Texas', 2000)]"
   ]
  },
  {
   "cell_type": "code",
   "execution_count": 4,
   "metadata": {},
   "outputs": [
    {
     "output_type": "execute_result",
     "data": {
      "text/plain": "(California, 2010)    37253956\n(New York, 2010)      19378102\n(Texas, 2010)         25145561\ndtype: int64"
     },
     "metadata": {},
     "execution_count": 4
    }
   ],
   "source": [
    "# only 2010\n",
    "pop[[i for i in pop.index if i[1] == 2010]]"
   ]
  },
  {
   "cell_type": "code",
   "execution_count": 5,
   "metadata": {},
   "outputs": [
    {
     "output_type": "execute_result",
     "data": {
      "text/plain": "MultiIndex([('California', 2000),\n            ('California', 2010),\n            (  'New York', 2000),\n            (  'New York', 2010),\n            (     'Texas', 2000),\n            (     'Texas', 2010)],\n           )"
     },
     "metadata": {},
     "execution_count": 5
    }
   ],
   "source": [
    "# Лучший способ 👇\n",
    "index = pd.MultiIndex.from_tuples(index)\n",
    "index"
   ]
  },
  {
   "cell_type": "code",
   "execution_count": 6,
   "metadata": {},
   "outputs": [
    {
     "output_type": "execute_result",
     "data": {
      "text/plain": "California  2000    33871648\n            2010    37253956\nNew York    2000    18976457\n            2010    19378102\nTexas       2000    20851820\n            2010    25145561\ndtype: int64"
     },
     "metadata": {},
     "execution_count": 6
    }
   ],
   "source": [
    "pop = pop.reindex(index)\n",
    "pop"
   ]
  },
  {
   "cell_type": "code",
   "execution_count": 7,
   "metadata": {},
   "outputs": [
    {
     "output_type": "execute_result",
     "data": {
      "text/plain": "California    37253956\nNew York      19378102\nTexas         25145561\ndtype: int64"
     },
     "metadata": {},
     "execution_count": 7
    }
   ],
   "source": [
    "pop[:, 2010]"
   ]
  },
  {
   "cell_type": "code",
   "execution_count": 8,
   "metadata": {},
   "outputs": [
    {
     "output_type": "execute_result",
     "data": {
      "text/plain": "                2000      2010\nCalifornia  33871648  37253956\nNew York    18976457  19378102\nTexas       20851820  25145561",
      "text/html": "<div>\n<style scoped>\n    .dataframe tbody tr th:only-of-type {\n        vertical-align: middle;\n    }\n\n    .dataframe tbody tr th {\n        vertical-align: top;\n    }\n\n    .dataframe thead th {\n        text-align: right;\n    }\n</style>\n<table border=\"1\" class=\"dataframe\">\n  <thead>\n    <tr style=\"text-align: right;\">\n      <th></th>\n      <th>2000</th>\n      <th>2010</th>\n    </tr>\n  </thead>\n  <tbody>\n    <tr>\n      <th>California</th>\n      <td>33871648</td>\n      <td>37253956</td>\n    </tr>\n    <tr>\n      <th>New York</th>\n      <td>18976457</td>\n      <td>19378102</td>\n    </tr>\n    <tr>\n      <th>Texas</th>\n      <td>20851820</td>\n      <td>25145561</td>\n    </tr>\n  </tbody>\n</table>\n</div>"
     },
     "metadata": {},
     "execution_count": 8
    }
   ],
   "source": [
    "# Метод unstack() может быстро преобразовать мультииндексный объект Series в индексированный обычным образом объект DataFrame\n",
    "# stack() логично обратное действие\n",
    "pop_df = pop.unstack()\n",
    "pop_df"
   ]
  },
  {
   "cell_type": "code",
   "execution_count": 9,
   "metadata": {},
   "outputs": [
    {
     "output_type": "execute_result",
     "data": {
      "text/plain": "California  2000    33871648\n            2010    37253956\nNew York    2000    18976457\n            2010    19378102\nTexas       2000    20851820\n            2010    25145561\ndtype: int64"
     },
     "metadata": {},
     "execution_count": 9
    }
   ],
   "source": [
    "pop_df.stack()"
   ]
  },
  {
   "cell_type": "code",
   "execution_count": 10,
   "metadata": {},
   "outputs": [
    {
     "output_type": "execute_result",
     "data": {
      "text/plain": "                    total  under18\nCalifornia 2000  33871648  9267089\n           2010  37253956  9284094\nNew York   2000  18976457  4687374\n           2010  19378102  4318033\nTexas      2000  20851820  5906301\n           2010  25145561  6879014",
      "text/html": "<div>\n<style scoped>\n    .dataframe tbody tr th:only-of-type {\n        vertical-align: middle;\n    }\n\n    .dataframe tbody tr th {\n        vertical-align: top;\n    }\n\n    .dataframe thead th {\n        text-align: right;\n    }\n</style>\n<table border=\"1\" class=\"dataframe\">\n  <thead>\n    <tr style=\"text-align: right;\">\n      <th></th>\n      <th></th>\n      <th>total</th>\n      <th>under18</th>\n    </tr>\n  </thead>\n  <tbody>\n    <tr>\n      <th rowspan=\"2\" valign=\"top\">California</th>\n      <th>2000</th>\n      <td>33871648</td>\n      <td>9267089</td>\n    </tr>\n    <tr>\n      <th>2010</th>\n      <td>37253956</td>\n      <td>9284094</td>\n    </tr>\n    <tr>\n      <th rowspan=\"2\" valign=\"top\">New York</th>\n      <th>2000</th>\n      <td>18976457</td>\n      <td>4687374</td>\n    </tr>\n    <tr>\n      <th>2010</th>\n      <td>19378102</td>\n      <td>4318033</td>\n    </tr>\n    <tr>\n      <th rowspan=\"2\" valign=\"top\">Texas</th>\n      <th>2000</th>\n      <td>20851820</td>\n      <td>5906301</td>\n    </tr>\n    <tr>\n      <th>2010</th>\n      <td>25145561</td>\n      <td>6879014</td>\n    </tr>\n  </tbody>\n</table>\n</div>"
     },
     "metadata": {},
     "execution_count": 10
    }
   ],
   "source": [
    "pop_df = pd.DataFrame({'total': pop, 'under18': [9267089, 9284094, 4687374, 4318033, 5906301, 6879014]})\n",
    "pop_df"
   ]
  },
  {
   "cell_type": "code",
   "execution_count": 11,
   "metadata": {},
   "outputs": [
    {
     "output_type": "execute_result",
     "data": {
      "text/plain": "                2000      2010\nCalifornia  0.273594  0.249211\nNew York    0.247010  0.222831\nTexas       0.283251  0.273568",
      "text/html": "<div>\n<style scoped>\n    .dataframe tbody tr th:only-of-type {\n        vertical-align: middle;\n    }\n\n    .dataframe tbody tr th {\n        vertical-align: top;\n    }\n\n    .dataframe thead th {\n        text-align: right;\n    }\n</style>\n<table border=\"1\" class=\"dataframe\">\n  <thead>\n    <tr style=\"text-align: right;\">\n      <th></th>\n      <th>2000</th>\n      <th>2010</th>\n    </tr>\n  </thead>\n  <tbody>\n    <tr>\n      <th>California</th>\n      <td>0.273594</td>\n      <td>0.249211</td>\n    </tr>\n    <tr>\n      <th>New York</th>\n      <td>0.247010</td>\n      <td>0.222831</td>\n    </tr>\n    <tr>\n      <th>Texas</th>\n      <td>0.283251</td>\n      <td>0.273568</td>\n    </tr>\n  </tbody>\n</table>\n</div>"
     },
     "metadata": {},
     "execution_count": 11
    }
   ],
   "source": [
    "f_u18 = pop_df['under18'] / pop_df['total']\n",
    "f_u18.unstack()"
   ]
  },
  {
   "cell_type": "code",
   "execution_count": 12,
   "metadata": {},
   "outputs": [
    {
     "output_type": "execute_result",
     "data": {
      "text/plain": "        data1     data2\na 1  0.176278  0.347371\n  2  0.373311  0.750342\nb 1  0.499369  0.549472\n  2  0.829453  0.028251",
      "text/html": "<div>\n<style scoped>\n    .dataframe tbody tr th:only-of-type {\n        vertical-align: middle;\n    }\n\n    .dataframe tbody tr th {\n        vertical-align: top;\n    }\n\n    .dataframe thead th {\n        text-align: right;\n    }\n</style>\n<table border=\"1\" class=\"dataframe\">\n  <thead>\n    <tr style=\"text-align: right;\">\n      <th></th>\n      <th></th>\n      <th>data1</th>\n      <th>data2</th>\n    </tr>\n  </thead>\n  <tbody>\n    <tr>\n      <th rowspan=\"2\" valign=\"top\">a</th>\n      <th>1</th>\n      <td>0.176278</td>\n      <td>0.347371</td>\n    </tr>\n    <tr>\n      <th>2</th>\n      <td>0.373311</td>\n      <td>0.750342</td>\n    </tr>\n    <tr>\n      <th rowspan=\"2\" valign=\"top\">b</th>\n      <th>1</th>\n      <td>0.499369</td>\n      <td>0.549472</td>\n    </tr>\n    <tr>\n      <th>2</th>\n      <td>0.829453</td>\n      <td>0.028251</td>\n    </tr>\n  </tbody>\n</table>\n</div>"
     },
     "metadata": {},
     "execution_count": 12
    }
   ],
   "source": [
    "# np.random.rand -> 1 parameter: rows, 2 parameter: columns\n",
    "df = pd.DataFrame(np.random.rand(4, 2), index=[['a', 'a', 'b', 'b'], [1, 2, 1, 2]], columns=['data1', 'data2'])\n",
    "df"
   ]
  },
  {
   "cell_type": "code",
   "execution_count": 13,
   "metadata": {},
   "outputs": [
    {
     "output_type": "execute_result",
     "data": {
      "text/plain": "California  2000    33871648\n            2010    37253956\nTexas       2000    20851820\n            2010    25145561\nNew York    2000    18976457\n            2010    19378102\ndtype: int64"
     },
     "metadata": {},
     "execution_count": 13
    }
   ],
   "source": [
    "data = {\n",
    "    ('California', 2000): 33871648,\n",
    "    ('California', 2010): 37253956,\n",
    "    ('Texas', 2000): 20851820,\n",
    "    ('Texas', 2010): 25145561,\n",
    "    ('New York', 2000): 18976457,\n",
    "    ('New York', 2010): 19378102\n",
    "}\n",
    "pd.Series(data)"
   ]
  },
  {
   "cell_type": "code",
   "execution_count": 14,
   "metadata": {},
   "outputs": [
    {
     "output_type": "execute_result",
     "data": {
      "text/plain": "MultiIndex([('a', 1),\n            ('a', 2),\n            ('b', 1),\n            ('b', 2)],\n           )"
     },
     "metadata": {},
     "execution_count": 14
    }
   ],
   "source": [
    "# Явные конструкторы для объектов MultiIndex\n",
    "pd.MultiIndex.from_arrays([['a', 'a', 'b', 'b'], [1, 2, 1, 2]])"
   ]
  },
  {
   "cell_type": "code",
   "execution_count": 18,
   "metadata": {},
   "outputs": [
    {
     "output_type": "execute_result",
     "data": {
      "text/plain": "MultiIndex([('a', 1),\n            ('a', 2),\n            ('b', 1),\n            ('b', 2)],\n           )"
     },
     "metadata": {},
     "execution_count": 18
    }
   ],
   "source": [
    "pd.MultiIndex.from_arrays([list('aabb'), list(map(int, list('1212')))])"
   ]
  },
  {
   "cell_type": "code",
   "execution_count": 19,
   "metadata": {},
   "outputs": [
    {
     "output_type": "execute_result",
     "data": {
      "text/plain": "MultiIndex([('a', 1),\n            ('a', 2),\n            ('b', 1),\n            ('b', 2)],\n           )"
     },
     "metadata": {},
     "execution_count": 19
    }
   ],
   "source": [
    "pd.MultiIndex.from_tuples([('a', 1), ('a', 2), ('b', 1), ('b', 2)])"
   ]
  },
  {
   "cell_type": "code",
   "execution_count": 20,
   "metadata": {},
   "outputs": [
    {
     "output_type": "execute_result",
     "data": {
      "text/plain": "MultiIndex([('a', 1),\n            ('a', 2),\n            ('b', 1),\n            ('b', 2)],\n           )"
     },
     "metadata": {},
     "execution_count": 20
    }
   ],
   "source": [
    "pd.MultiIndex.from_product([['a', 'b'], [1, 2]])"
   ]
  },
  {
   "cell_type": "code",
   "execution_count": 25,
   "metadata": {},
   "outputs": [
    {
     "output_type": "error",
     "ename": "TypeError",
     "evalue": "__new__() got an unexpected keyword argument 'labels'",
     "traceback": [
      "\u001b[1;31m---------------------------------------------------------------------------\u001b[0m",
      "\u001b[1;31mTypeError\u001b[0m                                 Traceback (most recent call last)",
      "\u001b[1;32m<ipython-input-25-f663f9b1f70f>\u001b[0m in \u001b[0;36m<module>\u001b[1;34m\u001b[0m\n\u001b[1;32m----> 1\u001b[1;33m \u001b[0mpd\u001b[0m\u001b[1;33m.\u001b[0m\u001b[0mMultiIndex\u001b[0m\u001b[1;33m(\u001b[0m\u001b[0mlevels\u001b[0m\u001b[1;33m=\u001b[0m\u001b[1;33m[\u001b[0m\u001b[1;33m[\u001b[0m\u001b[1;34m'a'\u001b[0m\u001b[1;33m,\u001b[0m \u001b[1;34m'b'\u001b[0m\u001b[1;33m]\u001b[0m\u001b[1;33m,\u001b[0m \u001b[1;33m[\u001b[0m\u001b[1;36m1\u001b[0m\u001b[1;33m,\u001b[0m \u001b[1;36m2\u001b[0m\u001b[1;33m]\u001b[0m\u001b[1;33m]\u001b[0m\u001b[1;33m,\u001b[0m \u001b[0mlabels\u001b[0m\u001b[1;33m=\u001b[0m\u001b[1;33m[\u001b[0m\u001b[1;33m[\u001b[0m\u001b[1;36m0\u001b[0m\u001b[1;33m,\u001b[0m \u001b[1;36m0\u001b[0m\u001b[1;33m,\u001b[0m \u001b[1;36m1\u001b[0m\u001b[1;33m,\u001b[0m \u001b[1;36m1\u001b[0m\u001b[1;33m]\u001b[0m\u001b[1;33m,\u001b[0m \u001b[1;33m[\u001b[0m\u001b[1;36m0\u001b[0m\u001b[1;33m,\u001b[0m \u001b[1;36m1\u001b[0m\u001b[1;33m,\u001b[0m \u001b[1;36m0\u001b[0m\u001b[1;33m,\u001b[0m \u001b[1;36m1\u001b[0m\u001b[1;33m]\u001b[0m\u001b[1;33m]\u001b[0m\u001b[1;33m)\u001b[0m\u001b[1;33m\u001b[0m\u001b[1;33m\u001b[0m\u001b[0m\n\u001b[0m",
      "\u001b[1;31mTypeError\u001b[0m: __new__() got an unexpected keyword argument 'labels'"
     ]
    }
   ],
   "source": [
    "pd.MultiIndex(levels=[['a', 'b'], [1, 2]], labels=[[0, 0, 1, 1], [0, 1, 0, 1]])"
   ]
  },
  {
   "cell_type": "code",
   "execution_count": 26,
   "metadata": {},
   "outputs": [
    {
     "output_type": "execute_result",
     "data": {
      "text/plain": "states      year\nCalifornia  2000    33871648\n            2010    37253956\nNew York    2000    18976457\n            2010    19378102\nTexas       2000    20851820\n            2010    25145561\ndtype: int64"
     },
     "metadata": {},
     "execution_count": 26
    }
   ],
   "source": [
    "pop.index.names = ['states', 'year']\n",
    "pop"
   ]
  },
  {
   "cell_type": "code",
   "execution_count": 38,
   "metadata": {},
   "outputs": [
    {
     "output_type": "execute_result",
     "data": {
      "text/plain": "subject      Bob       Guido         Sue      \ntype          HR  Temp    HR  Temp    HR  Temp\nyear visit                                    \n2013 1      40.0  36.7  50.0  38.1  39.0  37.1\n     2      35.0  38.6  45.0  37.1  36.0  37.1\n     3      39.0  37.1  40.0  36.2  21.0  35.7\n2014 1      26.0  36.1  39.0  36.9  36.0  37.0\n     2      48.0  38.0  43.0  36.2  46.0  37.8\n     3      51.0  36.7  40.0  35.7  30.0  35.8",
      "text/html": "<div>\n<style scoped>\n    .dataframe tbody tr th:only-of-type {\n        vertical-align: middle;\n    }\n\n    .dataframe tbody tr th {\n        vertical-align: top;\n    }\n\n    .dataframe thead tr th {\n        text-align: left;\n    }\n\n    .dataframe thead tr:last-of-type th {\n        text-align: right;\n    }\n</style>\n<table border=\"1\" class=\"dataframe\">\n  <thead>\n    <tr>\n      <th></th>\n      <th>subject</th>\n      <th colspan=\"2\" halign=\"left\">Bob</th>\n      <th colspan=\"2\" halign=\"left\">Guido</th>\n      <th colspan=\"2\" halign=\"left\">Sue</th>\n    </tr>\n    <tr>\n      <th></th>\n      <th>type</th>\n      <th>HR</th>\n      <th>Temp</th>\n      <th>HR</th>\n      <th>Temp</th>\n      <th>HR</th>\n      <th>Temp</th>\n    </tr>\n    <tr>\n      <th>year</th>\n      <th>visit</th>\n      <th></th>\n      <th></th>\n      <th></th>\n      <th></th>\n      <th></th>\n      <th></th>\n    </tr>\n  </thead>\n  <tbody>\n    <tr>\n      <th rowspan=\"3\" valign=\"top\">2013</th>\n      <th>1</th>\n      <td>40.0</td>\n      <td>36.7</td>\n      <td>50.0</td>\n      <td>38.1</td>\n      <td>39.0</td>\n      <td>37.1</td>\n    </tr>\n    <tr>\n      <th>2</th>\n      <td>35.0</td>\n      <td>38.6</td>\n      <td>45.0</td>\n      <td>37.1</td>\n      <td>36.0</td>\n      <td>37.1</td>\n    </tr>\n    <tr>\n      <th>3</th>\n      <td>39.0</td>\n      <td>37.1</td>\n      <td>40.0</td>\n      <td>36.2</td>\n      <td>21.0</td>\n      <td>35.7</td>\n    </tr>\n    <tr>\n      <th rowspan=\"3\" valign=\"top\">2014</th>\n      <th>1</th>\n      <td>26.0</td>\n      <td>36.1</td>\n      <td>39.0</td>\n      <td>36.9</td>\n      <td>36.0</td>\n      <td>37.0</td>\n    </tr>\n    <tr>\n      <th>2</th>\n      <td>48.0</td>\n      <td>38.0</td>\n      <td>43.0</td>\n      <td>36.2</td>\n      <td>46.0</td>\n      <td>37.8</td>\n    </tr>\n    <tr>\n      <th>3</th>\n      <td>51.0</td>\n      <td>36.7</td>\n      <td>40.0</td>\n      <td>35.7</td>\n      <td>30.0</td>\n      <td>35.8</td>\n    </tr>\n  </tbody>\n</table>\n</div>"
     },
     "metadata": {},
     "execution_count": 38
    }
   ],
   "source": [
    "# Иерархические индексы и столбцы\n",
    "index = pd.MultiIndex.from_product([[2013, 2014], [1, 2, 3]], names=['year', 'visit'])\n",
    "columns = pd.MultiIndex.from_product([['Bob', 'Guido', 'Sue'], ['HR', 'Temp']], names=['subject', 'type'])\n",
    "\n",
    "# Создаем имитационные данные\n",
    "data = np.round(np.random.randn(6, 6), 1)\n",
    "data[:, ::2] *= 10\n",
    "data += 37\n",
    "\n",
    "# Создаем обьект DataFrame\n",
    "health_data = pd.DataFrame(data, index=index, columns=columns)\n",
    "health_data"
   ]
  },
  {
   "cell_type": "code",
   "execution_count": 39,
   "metadata": {},
   "outputs": [
    {
     "output_type": "execute_result",
     "data": {
      "text/plain": "type          HR  Temp\nyear visit            \n2013 1      50.0  38.1\n     2      45.0  37.1\n     3      40.0  36.2\n2014 1      39.0  36.9\n     2      43.0  36.2\n     3      40.0  35.7",
      "text/html": "<div>\n<style scoped>\n    .dataframe tbody tr th:only-of-type {\n        vertical-align: middle;\n    }\n\n    .dataframe tbody tr th {\n        vertical-align: top;\n    }\n\n    .dataframe thead th {\n        text-align: right;\n    }\n</style>\n<table border=\"1\" class=\"dataframe\">\n  <thead>\n    <tr style=\"text-align: right;\">\n      <th></th>\n      <th>type</th>\n      <th>HR</th>\n      <th>Temp</th>\n    </tr>\n    <tr>\n      <th>year</th>\n      <th>visit</th>\n      <th></th>\n      <th></th>\n    </tr>\n  </thead>\n  <tbody>\n    <tr>\n      <th rowspan=\"3\" valign=\"top\">2013</th>\n      <th>1</th>\n      <td>50.0</td>\n      <td>38.1</td>\n    </tr>\n    <tr>\n      <th>2</th>\n      <td>45.0</td>\n      <td>37.1</td>\n    </tr>\n    <tr>\n      <th>3</th>\n      <td>40.0</td>\n      <td>36.2</td>\n    </tr>\n    <tr>\n      <th rowspan=\"3\" valign=\"top\">2014</th>\n      <th>1</th>\n      <td>39.0</td>\n      <td>36.9</td>\n    </tr>\n    <tr>\n      <th>2</th>\n      <td>43.0</td>\n      <td>36.2</td>\n    </tr>\n    <tr>\n      <th>3</th>\n      <td>40.0</td>\n      <td>35.7</td>\n    </tr>\n  </tbody>\n</table>\n</div>"
     },
     "metadata": {},
     "execution_count": 39
    }
   ],
   "source": [
    "health_data['Guido']"
   ]
  },
  {
   "cell_type": "code",
   "execution_count": 40,
   "metadata": {},
   "outputs": [
    {
     "output_type": "execute_result",
     "data": {
      "text/plain": "states      year\nCalifornia  2000    33871648\n            2010    37253956\nNew York    2000    18976457\n            2010    19378102\nTexas       2000    20851820\n            2010    25145561\ndtype: int64"
     },
     "metadata": {},
     "execution_count": 40
    }
   ],
   "source": [
    "pop"
   ]
  },
  {
   "cell_type": "code",
   "execution_count": 41,
   "metadata": {},
   "outputs": [
    {
     "output_type": "execute_result",
     "data": {
      "text/plain": "33871648"
     },
     "metadata": {},
     "execution_count": 41
    }
   ],
   "source": [
    "pop['California', 2000]"
   ]
  },
  {
   "cell_type": "code",
   "execution_count": 42,
   "metadata": {},
   "outputs": [
    {
     "output_type": "execute_result",
     "data": {
      "text/plain": "year\n2000    33871648\n2010    37253956\ndtype: int64"
     },
     "metadata": {},
     "execution_count": 42
    }
   ],
   "source": [
    "pop['California']"
   ]
  },
  {
   "cell_type": "code",
   "execution_count": 43,
   "metadata": {},
   "outputs": [
    {
     "output_type": "execute_result",
     "data": {
      "text/plain": "states      year\nCalifornia  2000    33871648\n            2010    37253956\nNew York    2000    18976457\n            2010    19378102\ndtype: int64"
     },
     "metadata": {},
     "execution_count": 43
    }
   ],
   "source": [
    "pop.loc['California' : 'New York']"
   ]
  },
  {
   "cell_type": "code",
   "execution_count": 44,
   "metadata": {},
   "outputs": [
    {
     "output_type": "execute_result",
     "data": {
      "text/plain": "states\nCalifornia    33871648\nNew York      18976457\nTexas         20851820\ndtype: int64"
     },
     "metadata": {},
     "execution_count": 44
    }
   ],
   "source": [
    "pop[:, 2000]"
   ]
  },
  {
   "cell_type": "code",
   "execution_count": 48,
   "metadata": {},
   "outputs": [
    {
     "output_type": "execute_result",
     "data": {
      "text/plain": "states      year\nCalifornia  2000    33871648\n            2010    37253956\nTexas       2010    25145561\ndtype: int64"
     },
     "metadata": {},
     "execution_count": 48
    }
   ],
   "source": [
    "pop[pop > 22000000]"
   ]
  },
  {
   "cell_type": "code",
   "execution_count": 49,
   "metadata": {},
   "outputs": [
    {
     "output_type": "execute_result",
     "data": {
      "text/plain": "states      year\nCalifornia  2000    33871648\n            2010    37253956\nTexas       2000    20851820\n            2010    25145561\ndtype: int64"
     },
     "metadata": {},
     "execution_count": 49
    }
   ],
   "source": [
    "pop[['California', 'Texas']]"
   ]
  },
  {
   "cell_type": "code",
   "execution_count": 50,
   "metadata": {},
   "outputs": [
    {
     "output_type": "execute_result",
     "data": {
      "text/plain": "states      year\nCalifornia  2000    33871648\n            2010    37253956\nNew York    2000    18976457\n            2010    19378102\nTexas       2000    20851820\n            2010    25145561\ndtype: int64"
     },
     "metadata": {},
     "execution_count": 50
    }
   ],
   "source": [
    "pop.loc['California' : 'Texas']"
   ]
  },
  {
   "cell_type": "code",
   "execution_count": 51,
   "metadata": {},
   "outputs": [
    {
     "output_type": "execute_result",
     "data": {
      "text/plain": "subject      Bob       Guido         Sue      \ntype          HR  Temp    HR  Temp    HR  Temp\nyear visit                                    \n2013 1      40.0  36.7  50.0  38.1  39.0  37.1\n     2      35.0  38.6  45.0  37.1  36.0  37.1\n     3      39.0  37.1  40.0  36.2  21.0  35.7\n2014 1      26.0  36.1  39.0  36.9  36.0  37.0\n     2      48.0  38.0  43.0  36.2  46.0  37.8\n     3      51.0  36.7  40.0  35.7  30.0  35.8",
      "text/html": "<div>\n<style scoped>\n    .dataframe tbody tr th:only-of-type {\n        vertical-align: middle;\n    }\n\n    .dataframe tbody tr th {\n        vertical-align: top;\n    }\n\n    .dataframe thead tr th {\n        text-align: left;\n    }\n\n    .dataframe thead tr:last-of-type th {\n        text-align: right;\n    }\n</style>\n<table border=\"1\" class=\"dataframe\">\n  <thead>\n    <tr>\n      <th></th>\n      <th>subject</th>\n      <th colspan=\"2\" halign=\"left\">Bob</th>\n      <th colspan=\"2\" halign=\"left\">Guido</th>\n      <th colspan=\"2\" halign=\"left\">Sue</th>\n    </tr>\n    <tr>\n      <th></th>\n      <th>type</th>\n      <th>HR</th>\n      <th>Temp</th>\n      <th>HR</th>\n      <th>Temp</th>\n      <th>HR</th>\n      <th>Temp</th>\n    </tr>\n    <tr>\n      <th>year</th>\n      <th>visit</th>\n      <th></th>\n      <th></th>\n      <th></th>\n      <th></th>\n      <th></th>\n      <th></th>\n    </tr>\n  </thead>\n  <tbody>\n    <tr>\n      <th rowspan=\"3\" valign=\"top\">2013</th>\n      <th>1</th>\n      <td>40.0</td>\n      <td>36.7</td>\n      <td>50.0</td>\n      <td>38.1</td>\n      <td>39.0</td>\n      <td>37.1</td>\n    </tr>\n    <tr>\n      <th>2</th>\n      <td>35.0</td>\n      <td>38.6</td>\n      <td>45.0</td>\n      <td>37.1</td>\n      <td>36.0</td>\n      <td>37.1</td>\n    </tr>\n    <tr>\n      <th>3</th>\n      <td>39.0</td>\n      <td>37.1</td>\n      <td>40.0</td>\n      <td>36.2</td>\n      <td>21.0</td>\n      <td>35.7</td>\n    </tr>\n    <tr>\n      <th rowspan=\"3\" valign=\"top\">2014</th>\n      <th>1</th>\n      <td>26.0</td>\n      <td>36.1</td>\n      <td>39.0</td>\n      <td>36.9</td>\n      <td>36.0</td>\n      <td>37.0</td>\n    </tr>\n    <tr>\n      <th>2</th>\n      <td>48.0</td>\n      <td>38.0</td>\n      <td>43.0</td>\n      <td>36.2</td>\n      <td>46.0</td>\n      <td>37.8</td>\n    </tr>\n    <tr>\n      <th>3</th>\n      <td>51.0</td>\n      <td>36.7</td>\n      <td>40.0</td>\n      <td>35.7</td>\n      <td>30.0</td>\n      <td>35.8</td>\n    </tr>\n  </tbody>\n</table>\n</div>"
     },
     "metadata": {},
     "execution_count": 51
    }
   ],
   "source": [
    "health_data"
   ]
  },
  {
   "cell_type": "code",
   "execution_count": 52,
   "metadata": {},
   "outputs": [
    {
     "output_type": "execute_result",
     "data": {
      "text/plain": "year  visit\n2013  1        50.0\n      2        45.0\n      3        40.0\n2014  1        39.0\n      2        43.0\n      3        40.0\nName: (Guido, HR), dtype: float64"
     },
     "metadata": {},
     "execution_count": 52
    }
   ],
   "source": [
    "health_data['Guido', 'HR']"
   ]
  },
  {
   "cell_type": "code",
   "execution_count": 54,
   "metadata": {},
   "outputs": [
    {
     "output_type": "execute_result",
     "data": {
      "text/plain": "subject      Bob      \ntype          HR  Temp\nyear visit            \n2013 1      40.0  36.7\n     2      35.0  38.6",
      "text/html": "<div>\n<style scoped>\n    .dataframe tbody tr th:only-of-type {\n        vertical-align: middle;\n    }\n\n    .dataframe tbody tr th {\n        vertical-align: top;\n    }\n\n    .dataframe thead tr th {\n        text-align: left;\n    }\n\n    .dataframe thead tr:last-of-type th {\n        text-align: right;\n    }\n</style>\n<table border=\"1\" class=\"dataframe\">\n  <thead>\n    <tr>\n      <th></th>\n      <th>subject</th>\n      <th colspan=\"2\" halign=\"left\">Bob</th>\n    </tr>\n    <tr>\n      <th></th>\n      <th>type</th>\n      <th>HR</th>\n      <th>Temp</th>\n    </tr>\n    <tr>\n      <th>year</th>\n      <th>visit</th>\n      <th></th>\n      <th></th>\n    </tr>\n  </thead>\n  <tbody>\n    <tr>\n      <th rowspan=\"2\" valign=\"top\">2013</th>\n      <th>1</th>\n      <td>40.0</td>\n      <td>36.7</td>\n    </tr>\n    <tr>\n      <th>2</th>\n      <td>35.0</td>\n      <td>38.6</td>\n    </tr>\n  </tbody>\n</table>\n</div>"
     },
     "metadata": {},
     "execution_count": 54
    }
   ],
   "source": [
    "health_data.iloc[:2, :2]"
   ]
  },
  {
   "cell_type": "code",
   "execution_count": 56,
   "metadata": {},
   "outputs": [
    {
     "output_type": "execute_result",
     "data": {
      "text/plain": "year  visit\n2013  1        40.0\n      2        35.0\n      3        39.0\n2014  1        26.0\n      2        48.0\n      3        51.0\nName: (Bob, HR), dtype: float64"
     },
     "metadata": {},
     "execution_count": 56
    }
   ],
   "source": [
    "health_data.loc[:, ('Bob', 'HR')]"
   ]
  },
  {
   "cell_type": "code",
   "execution_count": 57,
   "metadata": {},
   "outputs": [
    {
     "output_type": "execute_result",
     "data": {
      "text/plain": "year  visit\n2013  1        40.0\n      2        35.0\n      3        39.0\n2014  1        26.0\n      2        48.0\n      3        51.0\nName: (Bob, HR), dtype: float64"
     },
     "metadata": {},
     "execution_count": 57
    }
   ],
   "source": [
    "health_data['Bob', 'HR']"
   ]
  },
  {
   "cell_type": "code",
   "execution_count": 58,
   "metadata": {},
   "outputs": [
    {
     "output_type": "error",
     "ename": "SyntaxError",
     "evalue": "invalid syntax (<ipython-input-58-13c037d2f903>, line 1)",
     "traceback": [
      "\u001b[1;36m  File \u001b[1;32m\"<ipython-input-58-13c037d2f903>\"\u001b[1;36m, line \u001b[1;32m1\u001b[0m\n\u001b[1;33m    health_data.iloc[(:, 1), (:, \"HR\")]\u001b[0m\n\u001b[1;37m                      ^\u001b[0m\n\u001b[1;31mSyntaxError\u001b[0m\u001b[1;31m:\u001b[0m invalid syntax\n"
     ]
    }
   ],
   "source": [
    "health_data.iloc[(:, 1), (:, 'HR')]"
   ]
  },
  {
   "cell_type": "code",
   "execution_count": 60,
   "metadata": {},
   "outputs": [
    {
     "output_type": "execute_result",
     "data": {
      "text/plain": "subject      Bob Guido   Sue\ntype          HR    HR    HR\nyear visit                  \n2013 2      35.0  45.0  36.0\n2014 2      48.0  43.0  46.0",
      "text/html": "<div>\n<style scoped>\n    .dataframe tbody tr th:only-of-type {\n        vertical-align: middle;\n    }\n\n    .dataframe tbody tr th {\n        vertical-align: top;\n    }\n\n    .dataframe thead tr th {\n        text-align: left;\n    }\n\n    .dataframe thead tr:last-of-type th {\n        text-align: right;\n    }\n</style>\n<table border=\"1\" class=\"dataframe\">\n  <thead>\n    <tr>\n      <th></th>\n      <th>subject</th>\n      <th>Bob</th>\n      <th>Guido</th>\n      <th>Sue</th>\n    </tr>\n    <tr>\n      <th></th>\n      <th>type</th>\n      <th>HR</th>\n      <th>HR</th>\n      <th>HR</th>\n    </tr>\n    <tr>\n      <th>year</th>\n      <th>visit</th>\n      <th></th>\n      <th></th>\n      <th></th>\n    </tr>\n  </thead>\n  <tbody>\n    <tr>\n      <th>2013</th>\n      <th>2</th>\n      <td>35.0</td>\n      <td>45.0</td>\n      <td>36.0</td>\n    </tr>\n    <tr>\n      <th>2014</th>\n      <th>2</th>\n      <td>48.0</td>\n      <td>43.0</td>\n      <td>46.0</td>\n    </tr>\n  </tbody>\n</table>\n</div>"
     },
     "metadata": {},
     "execution_count": 60
    }
   ],
   "source": [
    "idx = pd.IndexSlice\n",
    "health_data.loc[idx[:, 2], idx[:, 'HR']]"
   ]
  },
  {
   "cell_type": "code",
   "execution_count": 65,
   "metadata": {},
   "outputs": [
    {
     "output_type": "execute_result",
     "data": {
      "text/plain": "char  int\na     1      0.658428\n      2      0.021388\nb     1      0.965743\n      2      0.101344\nc     1      0.031355\n      2      0.037153\ndtype: float64"
     },
     "metadata": {},
     "execution_count": 65
    }
   ],
   "source": [
    "index = pd.MultiIndex.from_product([list('abc'), [1, 2]])\n",
    "data = pd.Series(np.random.rand(6), index=index)\n",
    "data.index.names = ['char', 'int']\n",
    "data"
   ]
  },
  {
   "cell_type": "code",
   "execution_count": 66,
   "metadata": {},
   "outputs": [],
   "source": [
    "# уже все окей, в книге ошибка:\n",
    "# <class 'KeyError'>\n",
    "# 'Key length (1) was greater than MultiIndex lexsort depth (0)'\n",
    "\n",
    "try:\n",
    "    data['a':'b']\n",
    "except KeyError as e:\n",
    "    print(type(e))\n",
    "    print(e)"
   ]
  },
  {
   "cell_type": "code",
   "execution_count": 67,
   "metadata": {},
   "outputs": [
    {
     "output_type": "execute_result",
     "data": {
      "text/plain": "char  int\na     1      0.658428\n      2      0.021388\nb     1      0.965743\n      2      0.101344\ndtype: float64"
     },
     "metadata": {},
     "execution_count": 67
    }
   ],
   "source": [
    "data['a' : 'b']"
   ]
  },
  {
   "cell_type": "code",
   "execution_count": 68,
   "metadata": {},
   "outputs": [
    {
     "output_type": "execute_result",
     "data": {
      "text/plain": "char  int\na     1      0.658428\n      2      0.021388\nb     1      0.965743\n      2      0.101344\nc     1      0.031355\n      2      0.037153\ndtype: float64"
     },
     "metadata": {},
     "execution_count": 68
    }
   ],
   "source": [
    "data = data.sort_index()\n",
    "data"
   ]
  },
  {
   "cell_type": "code",
   "execution_count": 69,
   "metadata": {},
   "outputs": [
    {
     "output_type": "execute_result",
     "data": {
      "text/plain": "year            2000      2010\nstates                        \nCalifornia  33871648  37253956\nNew York    18976457  19378102\nTexas       20851820  25145561",
      "text/html": "<div>\n<style scoped>\n    .dataframe tbody tr th:only-of-type {\n        vertical-align: middle;\n    }\n\n    .dataframe tbody tr th {\n        vertical-align: top;\n    }\n\n    .dataframe thead th {\n        text-align: right;\n    }\n</style>\n<table border=\"1\" class=\"dataframe\">\n  <thead>\n    <tr style=\"text-align: right;\">\n      <th>year</th>\n      <th>2000</th>\n      <th>2010</th>\n    </tr>\n    <tr>\n      <th>states</th>\n      <th></th>\n      <th></th>\n    </tr>\n  </thead>\n  <tbody>\n    <tr>\n      <th>California</th>\n      <td>33871648</td>\n      <td>37253956</td>\n    </tr>\n    <tr>\n      <th>New York</th>\n      <td>18976457</td>\n      <td>19378102</td>\n    </tr>\n    <tr>\n      <th>Texas</th>\n      <td>20851820</td>\n      <td>25145561</td>\n    </tr>\n  </tbody>\n</table>\n</div>"
     },
     "metadata": {},
     "execution_count": 69
    }
   ],
   "source": [
    "pop.unstack(level=1)"
   ]
  },
  {
   "cell_type": "code",
   "execution_count": 70,
   "metadata": {},
   "outputs": [
    {
     "output_type": "execute_result",
     "data": {
      "text/plain": "states  California  New York     Texas\nyear                                  \n2000      33871648  18976457  20851820\n2010      37253956  19378102  25145561",
      "text/html": "<div>\n<style scoped>\n    .dataframe tbody tr th:only-of-type {\n        vertical-align: middle;\n    }\n\n    .dataframe tbody tr th {\n        vertical-align: top;\n    }\n\n    .dataframe thead th {\n        text-align: right;\n    }\n</style>\n<table border=\"1\" class=\"dataframe\">\n  <thead>\n    <tr style=\"text-align: right;\">\n      <th>states</th>\n      <th>California</th>\n      <th>New York</th>\n      <th>Texas</th>\n    </tr>\n    <tr>\n      <th>year</th>\n      <th></th>\n      <th></th>\n      <th></th>\n    </tr>\n  </thead>\n  <tbody>\n    <tr>\n      <th>2000</th>\n      <td>33871648</td>\n      <td>18976457</td>\n      <td>20851820</td>\n    </tr>\n    <tr>\n      <th>2010</th>\n      <td>37253956</td>\n      <td>19378102</td>\n      <td>25145561</td>\n    </tr>\n  </tbody>\n</table>\n</div>"
     },
     "metadata": {},
     "execution_count": 70
    }
   ],
   "source": [
    "pop.unstack(level=0)"
   ]
  },
  {
   "cell_type": "code",
   "execution_count": 71,
   "metadata": {},
   "outputs": [
    {
     "output_type": "execute_result",
     "data": {
      "text/plain": "states      year\nCalifornia  2000    33871648\n            2010    37253956\nNew York    2000    18976457\n            2010    19378102\nTexas       2000    20851820\n            2010    25145561\ndtype: int64"
     },
     "metadata": {},
     "execution_count": 71
    }
   ],
   "source": [
    "pop.unstack().stack()"
   ]
  },
  {
   "cell_type": "code",
   "execution_count": 73,
   "metadata": {},
   "outputs": [
    {
     "output_type": "execute_result",
     "data": {
      "text/plain": "       states  year  population\n0  California  2000    33871648\n1  California  2010    37253956\n2    New York  2000    18976457\n3    New York  2010    19378102\n4       Texas  2000    20851820\n5       Texas  2010    25145561",
      "text/html": "<div>\n<style scoped>\n    .dataframe tbody tr th:only-of-type {\n        vertical-align: middle;\n    }\n\n    .dataframe tbody tr th {\n        vertical-align: top;\n    }\n\n    .dataframe thead th {\n        text-align: right;\n    }\n</style>\n<table border=\"1\" class=\"dataframe\">\n  <thead>\n    <tr style=\"text-align: right;\">\n      <th></th>\n      <th>states</th>\n      <th>year</th>\n      <th>population</th>\n    </tr>\n  </thead>\n  <tbody>\n    <tr>\n      <th>0</th>\n      <td>California</td>\n      <td>2000</td>\n      <td>33871648</td>\n    </tr>\n    <tr>\n      <th>1</th>\n      <td>California</td>\n      <td>2010</td>\n      <td>37253956</td>\n    </tr>\n    <tr>\n      <th>2</th>\n      <td>New York</td>\n      <td>2000</td>\n      <td>18976457</td>\n    </tr>\n    <tr>\n      <th>3</th>\n      <td>New York</td>\n      <td>2010</td>\n      <td>19378102</td>\n    </tr>\n    <tr>\n      <th>4</th>\n      <td>Texas</td>\n      <td>2000</td>\n      <td>20851820</td>\n    </tr>\n    <tr>\n      <th>5</th>\n      <td>Texas</td>\n      <td>2010</td>\n      <td>25145561</td>\n    </tr>\n  </tbody>\n</table>\n</div>"
     },
     "metadata": {},
     "execution_count": 73
    }
   ],
   "source": [
    "pop_flat = pop.reset_index(name='population')\n",
    "pop_flat"
   ]
  },
  {
   "cell_type": "code",
   "execution_count": 74,
   "metadata": {},
   "outputs": [
    {
     "output_type": "error",
     "ename": "KeyError",
     "evalue": "\"None of ['state'] are in the columns\"",
     "traceback": [
      "\u001b[1;31m---------------------------------------------------------------------------\u001b[0m",
      "\u001b[1;31mKeyError\u001b[0m                                  Traceback (most recent call last)",
      "\u001b[1;32m<ipython-input-74-f1976199fed8>\u001b[0m in \u001b[0;36m<module>\u001b[1;34m\u001b[0m\n\u001b[1;32m----> 1\u001b[1;33m \u001b[0mpop_flat\u001b[0m\u001b[1;33m.\u001b[0m\u001b[0mset_index\u001b[0m\u001b[1;33m(\u001b[0m\u001b[1;33m[\u001b[0m\u001b[1;34m'state'\u001b[0m\u001b[1;33m,\u001b[0m \u001b[1;34m'year'\u001b[0m\u001b[1;33m]\u001b[0m\u001b[1;33m)\u001b[0m\u001b[1;33m\u001b[0m\u001b[1;33m\u001b[0m\u001b[0m\n\u001b[0m",
      "\u001b[1;32m~\\AppData\\Local\\Programs\\Python\\Python38-32\\lib\\site-packages\\pandas\\core\\frame.py\u001b[0m in \u001b[0;36mset_index\u001b[1;34m(self, keys, drop, append, inplace, verify_integrity)\u001b[0m\n\u001b[0;32m   4543\u001b[0m \u001b[1;33m\u001b[0m\u001b[0m\n\u001b[0;32m   4544\u001b[0m         \u001b[1;32mif\u001b[0m \u001b[0mmissing\u001b[0m\u001b[1;33m:\u001b[0m\u001b[1;33m\u001b[0m\u001b[1;33m\u001b[0m\u001b[0m\n\u001b[1;32m-> 4545\u001b[1;33m             \u001b[1;32mraise\u001b[0m \u001b[0mKeyError\u001b[0m\u001b[1;33m(\u001b[0m\u001b[1;34mf\"None of {missing} are in the columns\"\u001b[0m\u001b[1;33m)\u001b[0m\u001b[1;33m\u001b[0m\u001b[1;33m\u001b[0m\u001b[0m\n\u001b[0m\u001b[0;32m   4546\u001b[0m \u001b[1;33m\u001b[0m\u001b[0m\n\u001b[0;32m   4547\u001b[0m         \u001b[1;32mif\u001b[0m \u001b[0minplace\u001b[0m\u001b[1;33m:\u001b[0m\u001b[1;33m\u001b[0m\u001b[1;33m\u001b[0m\u001b[0m\n",
      "\u001b[1;31mKeyError\u001b[0m: \"None of ['state'] are in the columns\""
     ]
    }
   ],
   "source": [
    "pop_flat.set_index(['state', 'year'])"
   ]
  },
  {
   "cell_type": "code",
   "execution_count": 75,
   "metadata": {},
   "outputs": [
    {
     "output_type": "execute_result",
     "data": {
      "text/plain": "subject      Bob       Guido         Sue      \ntype          HR  Temp    HR  Temp    HR  Temp\nyear visit                                    \n2013 1      40.0  36.7  50.0  38.1  39.0  37.1\n     2      35.0  38.6  45.0  37.1  36.0  37.1\n     3      39.0  37.1  40.0  36.2  21.0  35.7\n2014 1      26.0  36.1  39.0  36.9  36.0  37.0\n     2      48.0  38.0  43.0  36.2  46.0  37.8\n     3      51.0  36.7  40.0  35.7  30.0  35.8",
      "text/html": "<div>\n<style scoped>\n    .dataframe tbody tr th:only-of-type {\n        vertical-align: middle;\n    }\n\n    .dataframe tbody tr th {\n        vertical-align: top;\n    }\n\n    .dataframe thead tr th {\n        text-align: left;\n    }\n\n    .dataframe thead tr:last-of-type th {\n        text-align: right;\n    }\n</style>\n<table border=\"1\" class=\"dataframe\">\n  <thead>\n    <tr>\n      <th></th>\n      <th>subject</th>\n      <th colspan=\"2\" halign=\"left\">Bob</th>\n      <th colspan=\"2\" halign=\"left\">Guido</th>\n      <th colspan=\"2\" halign=\"left\">Sue</th>\n    </tr>\n    <tr>\n      <th></th>\n      <th>type</th>\n      <th>HR</th>\n      <th>Temp</th>\n      <th>HR</th>\n      <th>Temp</th>\n      <th>HR</th>\n      <th>Temp</th>\n    </tr>\n    <tr>\n      <th>year</th>\n      <th>visit</th>\n      <th></th>\n      <th></th>\n      <th></th>\n      <th></th>\n      <th></th>\n      <th></th>\n    </tr>\n  </thead>\n  <tbody>\n    <tr>\n      <th rowspan=\"3\" valign=\"top\">2013</th>\n      <th>1</th>\n      <td>40.0</td>\n      <td>36.7</td>\n      <td>50.0</td>\n      <td>38.1</td>\n      <td>39.0</td>\n      <td>37.1</td>\n    </tr>\n    <tr>\n      <th>2</th>\n      <td>35.0</td>\n      <td>38.6</td>\n      <td>45.0</td>\n      <td>37.1</td>\n      <td>36.0</td>\n      <td>37.1</td>\n    </tr>\n    <tr>\n      <th>3</th>\n      <td>39.0</td>\n      <td>37.1</td>\n      <td>40.0</td>\n      <td>36.2</td>\n      <td>21.0</td>\n      <td>35.7</td>\n    </tr>\n    <tr>\n      <th rowspan=\"3\" valign=\"top\">2014</th>\n      <th>1</th>\n      <td>26.0</td>\n      <td>36.1</td>\n      <td>39.0</td>\n      <td>36.9</td>\n      <td>36.0</td>\n      <td>37.0</td>\n    </tr>\n    <tr>\n      <th>2</th>\n      <td>48.0</td>\n      <td>38.0</td>\n      <td>43.0</td>\n      <td>36.2</td>\n      <td>46.0</td>\n      <td>37.8</td>\n    </tr>\n    <tr>\n      <th>3</th>\n      <td>51.0</td>\n      <td>36.7</td>\n      <td>40.0</td>\n      <td>35.7</td>\n      <td>30.0</td>\n      <td>35.8</td>\n    </tr>\n  </tbody>\n</table>\n</div>"
     },
     "metadata": {},
     "execution_count": 75
    }
   ],
   "source": [
    "health_data"
   ]
  },
  {
   "cell_type": "code",
   "execution_count": 76,
   "metadata": {},
   "outputs": [
    {
     "output_type": "execute_result",
     "data": {
      "text/plain": "subject        Bob                 Guido                   Sue           \ntype            HR       Temp         HR       Temp         HR       Temp\nyear                                                                     \n2013     38.000000  37.466667  45.000000  37.133333  32.000000  36.633333\n2014     41.666667  36.933333  40.666667  36.266667  37.333333  36.866667",
      "text/html": "<div>\n<style scoped>\n    .dataframe tbody tr th:only-of-type {\n        vertical-align: middle;\n    }\n\n    .dataframe tbody tr th {\n        vertical-align: top;\n    }\n\n    .dataframe thead tr th {\n        text-align: left;\n    }\n\n    .dataframe thead tr:last-of-type th {\n        text-align: right;\n    }\n</style>\n<table border=\"1\" class=\"dataframe\">\n  <thead>\n    <tr>\n      <th>subject</th>\n      <th colspan=\"2\" halign=\"left\">Bob</th>\n      <th colspan=\"2\" halign=\"left\">Guido</th>\n      <th colspan=\"2\" halign=\"left\">Sue</th>\n    </tr>\n    <tr>\n      <th>type</th>\n      <th>HR</th>\n      <th>Temp</th>\n      <th>HR</th>\n      <th>Temp</th>\n      <th>HR</th>\n      <th>Temp</th>\n    </tr>\n    <tr>\n      <th>year</th>\n      <th></th>\n      <th></th>\n      <th></th>\n      <th></th>\n      <th></th>\n      <th></th>\n    </tr>\n  </thead>\n  <tbody>\n    <tr>\n      <th>2013</th>\n      <td>38.000000</td>\n      <td>37.466667</td>\n      <td>45.000000</td>\n      <td>37.133333</td>\n      <td>32.000000</td>\n      <td>36.633333</td>\n    </tr>\n    <tr>\n      <th>2014</th>\n      <td>41.666667</td>\n      <td>36.933333</td>\n      <td>40.666667</td>\n      <td>36.266667</td>\n      <td>37.333333</td>\n      <td>36.866667</td>\n    </tr>\n  </tbody>\n</table>\n</div>"
     },
     "metadata": {},
     "execution_count": 76
    }
   ],
   "source": [
    "# нужно усреднить результаты измерений показателей по двум визитам в течение года\n",
    "data_mean = health_data.mean(level='year')\n",
    "data_mean"
   ]
  },
  {
   "cell_type": "code",
   "execution_count": 77,
   "metadata": {},
   "outputs": [
    {
     "output_type": "execute_result",
     "data": {
      "text/plain": "type         HR       Temp\nyear                      \n2013  38.333333  37.077778\n2014  39.888889  36.688889",
      "text/html": "<div>\n<style scoped>\n    .dataframe tbody tr th:only-of-type {\n        vertical-align: middle;\n    }\n\n    .dataframe tbody tr th {\n        vertical-align: top;\n    }\n\n    .dataframe thead th {\n        text-align: right;\n    }\n</style>\n<table border=\"1\" class=\"dataframe\">\n  <thead>\n    <tr style=\"text-align: right;\">\n      <th>type</th>\n      <th>HR</th>\n      <th>Temp</th>\n    </tr>\n    <tr>\n      <th>year</th>\n      <th></th>\n      <th></th>\n    </tr>\n  </thead>\n  <tbody>\n    <tr>\n      <th>2013</th>\n      <td>38.333333</td>\n      <td>37.077778</td>\n    </tr>\n    <tr>\n      <th>2014</th>\n      <td>39.888889</td>\n      <td>36.688889</td>\n    </tr>\n  </tbody>\n</table>\n</div>"
     },
     "metadata": {},
     "execution_count": 77
    }
   ],
   "source": [
    "data_mean.mean(axis=1, level='type')"
   ]
  },
  {
   "cell_type": "code",
   "execution_count": null,
   "metadata": {},
   "outputs": [],
   "source": []
  }
 ]
}